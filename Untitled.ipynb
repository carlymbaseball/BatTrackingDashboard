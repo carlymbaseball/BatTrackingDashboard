{
 "cells": [
  {
   "cell_type": "code",
   "execution_count": 3,
   "id": "1de6cc9a-ecb6-4e23-8ee7-9c1f5838aa02",
   "metadata": {},
   "outputs": [],
   "source": [
    "import pandas as pd\n",
    "import streamlit as st\n",
    "import plotly.express as px"
   ]
  },
  {
   "cell_type": "code",
   "execution_count": 6,
   "id": "48de723c-b95a-447f-aa11-918b9db6e957",
   "metadata": {},
   "outputs": [],
   "source": [
    "# Define function to update plot\n",
    "def update_plot(df, color_variable, title):\n",
    "    fig = px.scatter(df, hover_data=['player'], x='VSA', y='SBA', color=color_variable, color_continuous_scale='Oranges')\n",
    "    fig.update_layout(\n",
    "        title=title,\n",
    "        xaxis=dict(title='VSA'),\n",
    "        yaxis=dict(title='SBA')\n",
    "    )\n",
    "    st.plotly_chart(fig)\n",
    "\n",
    "def main():\n",
    "    st.title('Bat Angles and Hitting Performance')\n",
    "\n",
    "    # Load data\n",
    "    he_sfg = load_data('he_sfg.csv')\n",
    "    he_all = load_data('he_all.csv')\n",
    "\n",
    "    # Define color options\n",
    "    color_options = ['SwM', 'BB_SwM', 'FB_SwM', 'IZ_SwM']\n",
    "\n",
    "    # Select color variable\n",
    "    color_variable = st.selectbox('Colored By:', color_options)\n",
    "\n",
    "    # Update plot for SFG Hitters\n",
    "    st.subheader('SFG Hitters 2023')\n",
    "    update_plot(he_sfg, color_variable, 'swing bottom angle X vertical swing angle')\n",
    "\n",
    "    # Update plot for MLB Hitters\n",
    "    st.subheader('MLB Hitters 2023')\n",
    "    update_plot(he_all, color_variable, 'swing bottom angle X vertical swing angle')\n",
    "\n",
    "if __name__ == \"__main__\":\n",
    "    main()"
   ]
  },
  {
   "cell_type": "code",
   "execution_count": null,
   "id": "4a58adf5-061e-406d-b970-52df11bd88ee",
   "metadata": {},
   "outputs": [],
   "source": []
  }
 ],
 "metadata": {
  "kernelspec": {
   "display_name": "Python 3 (ipykernel)",
   "language": "python",
   "name": "python3"
  },
  "language_info": {
   "codemirror_mode": {
    "name": "ipython",
    "version": 3
   },
   "file_extension": ".py",
   "mimetype": "text/x-python",
   "name": "python",
   "nbconvert_exporter": "python",
   "pygments_lexer": "ipython3",
   "version": "3.12.2"
  }
 },
 "nbformat": 4,
 "nbformat_minor": 5
}
