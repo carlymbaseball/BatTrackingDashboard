{
 "cells": [
  {
   "cell_type": "code",
   "execution_count": 1,
   "id": "ef5651d9-ea4b-4ebd-b59d-12ea00691893",
   "metadata": {},
   "outputs": [
    {
     "data": {
      "application/vnd.jupyter.widget-view+json": {
       "model_id": "347d23c541404e248dfbc1a32b17d95b",
       "version_major": 2,
       "version_minor": 0
      },
      "text/plain": [
       "interactive(children=(Dropdown(description='Colored By:', options=('SwM', 'BB_SwM', 'FB_SwM', 'IZ_SwM'), value…"
      ]
     },
     "metadata": {},
     "output_type": "display_data"
    },
    {
     "data": {
      "text/plain": [
       "<function __main__.update_plot(color_variable)>"
      ]
     },
     "execution_count": 1,
     "metadata": {},
     "output_type": "execute_result"
    }
   ],
   "source": [
    "import pandas as pd\n",
    "import plotly.express as px\n",
    "from ipywidgets import interact, Dropdown \n",
    "\n",
    "he_sfg = pd.read_csv('he_sfg.csv')  # Adjust the file path as per your data\n",
    "\n",
    "color_options = ['SwM', 'BB_SwM', 'FB_SwM', 'IZ_SwM']\n",
    "\n",
    "def update_plot(color_variable):\n",
    "    fig = px.scatter(he_sfg, hover_data=['player'], x='VSA', y='SBA', color=color_variable, color_continuous_scale='Oranges')\n",
    "    fig.update_layout(\n",
    "        title='SFG Hitters',\n",
    "        xaxis=dict(title='VSA'),\n",
    "        yaxis=dict(title='SBA')\n",
    "    )\n",
    "    fig.show()\n",
    "\n",
    "dropdown = Dropdown(\n",
    "    options=color_options,\n",
    "    description='Colored By:'\n",
    ")\n",
    "\n",
    "interact(update_plot, color_variable=dropdown)"
   ]
  },
  {
   "cell_type": "code",
   "execution_count": 2,
   "id": "ff9e0e6e-9ca3-467b-ae74-8b419fd118b3",
   "metadata": {},
   "outputs": [
    {
     "data": {
      "application/vnd.jupyter.widget-view+json": {
       "model_id": "d79f26a1e99d4259b6ad9feaa5561d84",
       "version_major": 2,
       "version_minor": 0
      },
      "text/plain": [
       "interactive(children=(Dropdown(description='Colored By:', options=('SwM', 'BB_SwM', 'FB_SwM', 'IZ_SwM'), value…"
      ]
     },
     "metadata": {},
     "output_type": "display_data"
    },
    {
     "data": {
      "text/plain": [
       "<function __main__.update_plot(color_variable)>"
      ]
     },
     "execution_count": 2,
     "metadata": {},
     "output_type": "execute_result"
    }
   ],
   "source": [
    "import pandas as pd\n",
    "import plotly.express as px\n",
    "from ipywidgets import interact, Dropdown \n",
    "\n",
    "he_all = pd.read_csv('he_all.csv')  # Adjust the file path as per your data\n",
    "\n",
    "color_options = ['SwM', 'BB_SwM', 'FB_SwM', 'IZ_SwM']\n",
    "\n",
    "def update_plot(color_variable):\n",
    "    fig = px.scatter(he_all, hover_data=['player'], x='VSA', y='SBA', color=color_variable, color_continuous_scale='Oranges')\n",
    "    fig.update_layout(\n",
    "        title='MLB Hitters',\n",
    "        xaxis=dict(title='VSA'),\n",
    "        yaxis=dict(title='SBA')\n",
    "    )\n",
    "    fig.show()\n",
    "\n",
    "dropdown = Dropdown(\n",
    "    options=color_options,\n",
    "    description='Colored By:'\n",
    ")\n",
    "\n",
    "interact(update_plot, color_variable=dropdown)"
   ]
  },
  {
   "cell_type": "code",
   "execution_count": null,
   "id": "7ced0bf7-efe9-46c5-b5f6-ea99c1cd9fb6",
   "metadata": {},
   "outputs": [],
   "source": []
  }
 ],
 "metadata": {
  "kernelspec": {
   "display_name": "Python 3 (ipykernel)",
   "language": "python",
   "name": "python3"
  },
  "language_info": {
   "codemirror_mode": {
    "name": "ipython",
    "version": 3
   },
   "file_extension": ".py",
   "mimetype": "text/x-python",
   "name": "python",
   "nbconvert_exporter": "python",
   "pygments_lexer": "ipython3",
   "version": "3.12.2"
  }
 },
 "nbformat": 4,
 "nbformat_minor": 5
}
